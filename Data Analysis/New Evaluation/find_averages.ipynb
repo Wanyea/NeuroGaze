{
 "cells": [
  {
   "cell_type": "code",
   "execution_count": 2,
   "metadata": {},
   "outputs": [
    {
     "name": "stdout",
     "output_type": "stream",
     "text": [
      "Average for column 'Eye_Gaze_Hands': 15.021244699031403\n",
      "Average for column 'Eye_Gaze_Hands': 5.3\n",
      "Average for column 'Neuro_Gaze': 2.25\n",
      "Average for column 'VR_Controllers': 4.15\n",
      "Average for column 'Neuro_Gaze': 29.2345544473399\n",
      "Average for column 'Eye_Gaze_Hands': 5.3\n",
      "Average for column 'Neuro_Gaze': 2.25\n",
      "Average for column 'VR_Controllers': 4.15\n",
      "Average for column 'VR_Controllers': 9.248017044132178\n",
      "Average for column 'Eye_Gaze_Hands': 5.3\n",
      "Average for column 'Neuro_Gaze': 2.25\n",
      "Average for column 'VR_Controllers': 4.15\n"
     ]
    }
   ],
   "source": [
    "import pandas as pd\n",
    "\n",
    "# Read the CSV file\n",
    "task_df = pd.read_csv('avg_task_completion_time.csv')\n",
    "error_df = pd.read_csv('gross_error_rate.csv')\n",
    "\n",
    "# Iterate over each column\n",
    "for column in task_df.columns:\n",
    "    # Calculate the sum of values in the column and divide by 20\n",
    "    task_avg = task_df[column].sum() / 20\n",
    "    print(f\"Average for column '{column}': {task_avg}\")\n",
    "    \n",
    "for column in task_df.columns:\n",
    "    # Calculate the sum of values in the column and divide by 20\n",
    "    error_avg = error_df[column].sum() / 20\n",
    "    print(f\"Average for column '{column}': {error_avg}\")\n"
   ]
  }
 ],
 "metadata": {
  "kernelspec": {
   "display_name": "base",
   "language": "python",
   "name": "python3"
  },
  "language_info": {
   "codemirror_mode": {
    "name": "ipython",
    "version": 3
   },
   "file_extension": ".py",
   "mimetype": "text/x-python",
   "name": "python",
   "nbconvert_exporter": "python",
   "pygments_lexer": "ipython3",
   "version": "3.11.5"
  }
 },
 "nbformat": 4,
 "nbformat_minor": 2
}
