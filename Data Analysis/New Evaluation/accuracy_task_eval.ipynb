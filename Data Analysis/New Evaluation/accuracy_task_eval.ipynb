{
 "cells": [
  {
   "cell_type": "code",
   "execution_count": 2,
   "metadata": {},
   "outputs": [],
   "source": [
    "import pandas as pd\n",
    "import numpy as np\n",
    "import matplotlib.pyplot as plt\n",
    "import seaborn as sns\n",
    "\n",
    "from scipy.stats import friedmanchisquare"
   ]
  },
  {
   "cell_type": "code",
   "execution_count": 8,
   "metadata": {},
   "outputs": [
    {
     "name": "stdout",
     "output_type": "stream",
     "text": [
      "FriedmanchisquareResult(statistic=38.10000000000002, pvalue=5.329544830873161e-09)\n"
     ]
    }
   ],
   "source": [
    "# I need to perform friedman test on all three coumns in the avg_task_completion_time.csv \n",
    "# file. I will use the friedmanchisquare function from the scipy.stats library to perform\n",
    "# the test. This function will return the test statistic and the p-value. I will then\n",
    "# compare the p-value to the significance level to determine if the null hypothesis can\n",
    "# be rejected.\n",
    "\n",
    "# Load the data\n",
    "data = pd.read_csv('round_duration.csv')\n",
    "\n",
    "# Perform the friedman test\n",
    "stat = friedmanchisquare(data['Eye_Gaze_Hands'], data['Neuro_Gaze'], data['VR_Controllers'])\n",
    "\n",
    "print(stat)"
   ]
  }
 ],
 "metadata": {
  "kernelspec": {
   "display_name": "Python 3",
   "language": "python",
   "name": "python3"
  },
  "language_info": {
   "codemirror_mode": {
    "name": "ipython",
    "version": 3
   },
   "file_extension": ".py",
   "mimetype": "text/x-python",
   "name": "python",
   "nbconvert_exporter": "python",
   "pygments_lexer": "ipython3",
   "version": "3.11.8"
  }
 },
 "nbformat": 4,
 "nbformat_minor": 2
}
